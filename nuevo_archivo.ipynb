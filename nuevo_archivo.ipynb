{
 "cells": [
  {
   "cell_type": "code",
   "execution_count": null,
   "metadata": {},
   "outputs": [],
   "source": [
    "# nuevo archivo de pruebas \n",
    "\n",
    "def calcular_media(lista):\n",
    "    if not lista:\n",
    "        return 0\n",
    "    return sum(lista) / len(lista)\n",
    "\n",
    "# Ejemplo de uso\n",
    "lista = [1, 2, 3, 4, 5]\n",
    "media = calcular_media(lista)\n",
    "print(f\"La media de la lista es: {media}\")"
   ]
  },
  {
   "cell_type": "code",
   "execution_count": null,
   "metadata": {},
   "outputs": [],
   "source": [
    "print(\"Fin del programa\")"
   ]
  }
 ],
 "metadata": {
  "language_info": {
   "name": "python"
  }
 },
 "nbformat": 4,
 "nbformat_minor": 2
}
